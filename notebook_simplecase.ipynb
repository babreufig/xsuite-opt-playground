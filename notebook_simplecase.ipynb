{
 "cells": [
  {
   "cell_type": "markdown",
   "id": "3aa2467b-425b-4b68-8aa7-844eed6b6cf6",
   "metadata": {},
   "source": [
    "# Optics calculation and matching for a large ring (LHC) - part 1"
   ]
  },
  {
   "cell_type": "code",
   "execution_count": 2,
   "id": "d6de4eb3-7830-4527-91ee-15d26b640006",
   "metadata": {},
   "outputs": [],
   "source": [
    "import xtrack as xt\n",
    "import os\n",
    "import numpy as np"
   ]
  },
  {
   "cell_type": "code",
   "execution_count": 3,
   "id": "e3bb9ad7-d8a8-48f9-b95d-f3cc6683e386",
   "metadata": {},
   "outputs": [
    {
     "data": {
      "application/vnd.jupyter.widget-view+json": {
       "model_id": "96ca1894beff4997985bfbbb89515b68",
       "version_major": 2,
       "version_minor": 0
      },
      "text/plain": [
       "Loading line from dict:   0%|          | 0/14522 [00:00<?, ?it/s]"
      ]
     },
     "metadata": {},
     "output_type": "display_data"
    },
    {
     "name": "stdout",
     "output_type": "stream",
     "text": [
      "Done loading line from dict.           \n"
     ]
    },
    {
     "data": {
      "text/plain": [
       "<xtrack.tracker.Tracker at 0x7400da57e120>"
      ]
     },
     "execution_count": 3,
     "metadata": {},
     "output_type": "execute_result"
    }
   ],
   "source": [
    "#dir_path = os.path.dirname(os.path.realpath(__file__))\n",
    "\n",
    "# Load a line and build a tracker\n",
    "line = xt.Line.from_json('lhc_thick_with_knobs.json')\n",
    "line.build_tracker()"
   ]
  },
  {
   "cell_type": "code",
   "execution_count": 4,
   "id": "ab31b177-2cef-4afd-834a-5b73de00d8a9",
   "metadata": {},
   "outputs": [
    {
     "name": "stdout",
     "output_type": "stream",
     "text": [
      "Matching: model call n. 0               \r"
     ]
    }
   ],
   "source": [
    "opt = line.match(\n",
    "    solve=False,\n",
    "    method='4d', # <- passed to twiss\n",
    "    vary=[\n",
    "        xt.VaryList(['kqtf.b1', 'kqtd.b1'], step=1e-8, tag='quad'),\n",
    "        xt.VaryList(['ksf.b1', 'ksd.b1'], step=1e-4, limits=[-0.1, 0.1], tag='sext'),\n",
    "    ],\n",
    "    targets = [\n",
    "        xt.TargetSet(qx=62.315, qy=60.325, tol=1e-6, tag='tune'),\n",
    "        xt.TargetSet(dqx=10.0, dqy=12.0, tol=0.01, tag='chrom'),\n",
    "    ])"
   ]
  },
  {
   "cell_type": "code",
   "execution_count": 6,
   "id": "5c683c5d-42e7-43a1-a044-848ddb960ef0",
   "metadata": {},
   "outputs": [
    {
     "name": "stdout",
     "output_type": "stream",
     "text": [
      "Matching: model call n. 6               \n",
      "\n",
      "Matching: model call n. 13               \n",
      "\n",
      "Matching: model call n. 20               \n",
      "\n",
      "Matching: model call n. 27               \n",
      "\n",
      "Matching: model call n. 34               \n",
      "\n",
      "Matching: model call n. 41               \n",
      "\n",
      "Matching: model call n. 48               \n",
      "\n",
      "Matching: model call n. 55               \n",
      "\n",
      "Matching: model call n. 62               \n",
      "\n",
      "Matching: model call n. 69               \n",
      "\n",
      "Matching: model call n. 70               \r"
     ]
    }
   ],
   "source": [
    "opt.solve_homotopy()"
   ]
  },
  {
   "cell_type": "code",
   "execution_count": 17,
   "id": "9957e245-3ed7-4c78-989d-397b7211560e",
   "metadata": {
    "scrolled": true
   },
   "outputs": [
    {
     "data": {
      "text/plain": [
       "Table: 21 rows, 18 cols\n",
       "iteration       penalty alpha tag           tol_met target_active hit_limits vary_active ...\n",
       "        0       12.8203    -1               nnnn    yyyy          nnnn       yyyy       \n",
       "        1    0.00207829     0               yyyy    yyyy          nnnn       yyyy       \n",
       "        2    0.00207829    -1 Homotopy it 0 yyyy    yyyy          nnnn       yyyy       \n",
       "        3     0.0033512     0               yyyy    yyyy          nnnn       yyyy       \n",
       "        4     0.0033512    -1 Homotopy it 1 yyyy    yyyy          nnnn       yyyy       \n",
       "        5    0.00676554     0               yyyy    yyyy          nnnn       yyyy       \n",
       "        6    0.00676554    -1 Homotopy it 2 yyyy    yyyy          nnnn       yyyy       \n",
       "        7   0.000607601     0               yyyy    yyyy          nnnn       yyyy       \n",
       "        8   0.000607601    -1 Homotopy it 3 yyyy    yyyy          nnnn       yyyy       \n",
       "        9    0.00254206     0               yyyy    yyyy          nnnn       yyyy       \n",
       "       10    0.00254206    -1 Homotopy it 4 yyyy    yyyy          nnnn       yyyy       \n",
       "       11    0.00127848     0               yyyy    yyyy          nnnn       yyyy       \n",
       "       12    0.00127848    -1 Homotopy it 5 yyyy    yyyy          nnnn       yyyy       \n",
       "       13   0.000285469     0               yyyy    yyyy          nnnn       yyyy       \n",
       "       14   0.000285469    -1 Homotopy it 6 yyyy    yyyy          nnnn       yyyy       \n",
       "       15    0.00366699     0               yyyy    yyyy          nnnn       yyyy       \n",
       "       16    0.00366699    -1 Homotopy it 7 yyyy    yyyy          nnnn       yyyy       \n",
       "       17    0.00158214     0               yyyy    yyyy          nnnn       yyyy       \n",
       "       18    0.00158214    -1 Homotopy it 8 yyyy    yyyy          nnnn       yyyy       \n",
       "       19    0.00353517     0               yyyy    yyyy          nnnn       yyyy       \n",
       "       20    0.00353517    -1 Homotopy it 9 yyyy    yyyy          nnnn       yyyy       "
      ]
     },
     "execution_count": 17,
     "metadata": {},
     "output_type": "execute_result"
    }
   ],
   "source": [
    "opt.log()"
   ]
  },
  {
   "cell_type": "code",
   "execution_count": 41,
   "id": "88e554b4-aa01-4ff0-9677-946a251147da",
   "metadata": {},
   "outputs": [
    {
     "data": {
      "text/plain": [
       "(21,)"
      ]
     },
     "execution_count": 41,
     "metadata": {},
     "output_type": "execute_result"
    }
   ],
   "source": [
    "np.array(opt._log['tag']).shape"
   ]
  },
  {
   "cell_type": "code",
   "execution_count": 28,
   "id": "a9794db6-c746-498a-81a6-c854e157a132",
   "metadata": {},
   "outputs": [],
   "source": [
    "targets = np.array(opt._log['targets'])[2::2]"
   ]
  },
  {
   "cell_type": "code",
   "execution_count": 31,
   "id": "d913a69e-2094-46ec-9fc2-d24b99bfc785",
   "metadata": {},
   "outputs": [
    {
     "data": {
      "text/plain": [
       "array([60.32050001, 60.32100001, 60.32150001, 60.32200001, 60.32250001,\n",
       "       60.32300001, 60.32350001, 60.32400001, 60.32450001, 60.32500001])"
      ]
     },
     "execution_count": 31,
     "metadata": {},
     "output_type": "execute_result"
    }
   ],
   "source": [
    "targets[:,1]"
   ]
  },
  {
   "cell_type": "code",
   "execution_count": null,
   "id": "e1c2bd19-e0d4-4ad3-9ae5-5bbac35650b6",
   "metadata": {},
   "outputs": [],
   "source": [
    "### FOR EXAMPLE\n",
    "#knobs = np.array(opt._log['knobs']).T\n",
    "#\n",
    "#fig, axes = plt.subplots(4)\n",
    "#knob_keys = list(opt.get_knob_values().keys())\n",
    "#for i in range(len(knobs)):\n",
    "#    axes[i].plot(knobs[i])\n",
    "#    axes[i].set_title(f\"Knob {knob_keys[i]}\")\n",
    "#    axes[i].set_xlabel(\"Iteration\")\n",
    "#    axes[i].set_ylabel(\"k [T/m]\")\n",
    "#\n",
    "#plt.tight_layout()\n",
    "#plt.show()"
   ]
  },
  {
   "cell_type": "code",
   "execution_count": 16,
   "id": "be142d9e-c7f7-4c30-a108-2289d0d3e04e",
   "metadata": {},
   "outputs": [
    {
     "data": {
      "text/plain": [
       "['kqtf.b1', 'kqtd.b1', 'ksf.b1', 'ksd.b1']"
      ]
     },
     "execution_count": 16,
     "metadata": {},
     "output_type": "execute_result"
    }
   ],
   "source": [
    "list(opt.get_knob_values().keys())"
   ]
  },
  {
   "cell_type": "code",
   "execution_count": 8,
   "id": "a4f25a57-3c11-4623-bddf-ec58eee6f003",
   "metadata": {},
   "outputs": [
    {
     "data": {
      "text/plain": [
       "[array([62.31000003, 60.32      ,  1.9983818 ,  1.98358673]),\n",
       " array([62.31050026, 60.32050001,  2.79646548,  2.98520265]),\n",
       " array([62.31050026, 60.32050001,  2.79646548,  2.98520265]),\n",
       " array([62.31099992, 60.32100001,  3.60205654,  3.98684394]),\n",
       " array([62.31099992, 60.32100001,  3.60205654,  3.98684394]),\n",
       " array([62.31150033, 60.32150001,  4.39210177,  4.98848489]),\n",
       " array([62.31150033, 60.32150001,  4.39210177,  4.98848489]),\n",
       " array([62.31200006, 60.32200001,  5.19963611,  5.99012561]),\n",
       " array([62.31200006, 60.32200001,  5.19963611,  5.99012561]),\n",
       " array([62.31249994, 60.32250001,  6.00173284,  6.99176802]),\n",
       " array([62.31249994, 60.32250001,  6.00173284,  6.99176802]),\n",
       " array([62.31300008, 60.32300001,  6.79807451,  7.99340824]),\n",
       " array([62.31300008, 60.32300001,  6.79807451,  7.99340824]),\n",
       " array([62.3135002 , 60.32350001,  7.59923025,  8.99505017]),\n",
       " array([62.3135002 , 60.32350001,  7.59923025,  8.99505017]),\n",
       " array([62.31400023, 60.32400001,  8.40334325,  9.99669114]),\n",
       " array([62.31400023, 60.32400001,  8.40334325,  9.99669114]),\n",
       " array([62.3145001 , 60.32450001,  9.19825625, 10.99833297]),\n",
       " array([62.3145001 , 60.32450001,  9.19825625, 10.99833297]),\n",
       " array([62.31499983, 60.32500001, 10.00353507, 11.99997357]),\n",
       " array([62.31499983, 60.32500001, 10.00353507, 11.99997357])]"
      ]
     },
     "execution_count": 8,
     "metadata": {},
     "output_type": "execute_result"
    }
   ],
   "source": [
    "opt._log['targets']"
   ]
  },
  {
   "cell_type": "code",
   "execution_count": 5,
   "id": "7bd14f6d-f34c-403c-8487-ad7ae6ffdab3",
   "metadata": {},
   "outputs": [],
   "source": [
    "merit_function = opt.get_merit_function(return_scalar=True, check_limits=False)\n",
    "bounds = merit_function.get_x_limits()\n",
    "x0 = merit_function.get_x()"
   ]
  },
  {
   "cell_type": "code",
   "execution_count": 6,
   "id": "35d9ab02-7c4c-42d9-9b61-b38cf2869333",
   "metadata": {},
   "outputs": [],
   "source": [
    "yt = []\n",
    "for i in opt.targets:\n",
    "    yt.append(i.value)\n",
    "yt = np.array(yt)"
   ]
  },
  {
   "cell_type": "code",
   "execution_count": 7,
   "id": "456640cd-aa46-48d2-b482-2b5a733e64da",
   "metadata": {},
   "outputs": [],
   "source": [
    "def residuals(x):\n",
    "    x = np.array(x).flatten()\n",
    "    return merit_function(x) - yt"
   ]
  },
  {
   "cell_type": "code",
   "execution_count": 8,
   "id": "a3bc002d-d1ca-4386-aa98-41756ed6f153",
   "metadata": {},
   "outputs": [
    {
     "name": "stdout",
     "output_type": "stream",
     "text": [
      "Matching: model call n. 6               4              \r"
     ]
    }
   ],
   "source": [
    "r0 = residuals(x0)\n",
    "J0 = merit_function.merit_function.get_jacobian(x0)"
   ]
  },
  {
   "cell_type": "code",
   "execution_count": 9,
   "id": "907e3795-e7f6-46f0-8a3b-b32f1e6a2e8b",
   "metadata": {},
   "outputs": [],
   "source": [
    "get_jacobian = merit_function.merit_function.get_jacobian"
   ]
  },
  {
   "cell_type": "code",
   "execution_count": 11,
   "id": "99b308a9-935d-4790-aaeb-2aaba532374c",
   "metadata": {},
   "outputs": [],
   "source": [
    "b = np.array([[2,3],[1,9]])"
   ]
  },
  {
   "cell_type": "code",
   "execution_count": 83,
   "id": "46f70eb8-8d05-4467-b899-e6a6bc497cb1",
   "metadata": {},
   "outputs": [],
   "source": [
    "import cvxopt\n",
    "from cvxopt import matrix, solvers\n",
    "\n",
    "def solve_cp(x0):\n",
    "    # Convert the initial guess to cvxopt's matrix format\n",
    "    x0 = matrix(x0)\n",
    "\n",
    "    def F(x=None, z=None):\n",
    "        # This function returns the objective and constraints for the solver\n",
    "\n",
    "        if x is None:  # Initial point\n",
    "            return 0, x0\n",
    "\n",
    "        # Convert x to a numpy array\n",
    "        x_np = np.array(x)\n",
    "\n",
    "        f = merit_function(x_np)  # Objective function\n",
    "        Df = np.sum(merit_function.merit_function.get_jacobian(x_np), axis=1)\n",
    "\n",
    "        if z is None:\n",
    "            return f, matrix(Df)\n",
    "\n",
    "        # With Lagrange multipliers (z), return Hessian approximation\n",
    "        H = z[0] * (Df.T @ Df)\n",
    "        return f, matrix(Df), matrix(H)\n",
    "    sol = solvers.cp(F)\n",
    "    return sol"
   ]
  },
  {
   "cell_type": "code",
   "execution_count": 84,
   "id": "151e80d0-a5bc-4604-a537-ba21ee140fe7",
   "metadata": {},
   "outputs": [
    {
     "name": "stdout",
     "output_type": "stream",
     "text": [
      "     pcost       dcost       gap    pres   dres\n",
      "Matching: model call n. 18               4              \r"
     ]
    },
    {
     "ename": "TypeError",
     "evalue": "length of x is too small",
     "output_type": "error",
     "traceback": [
      "\u001b[0;31m---------------------------------------------------------------------------\u001b[0m",
      "\u001b[0;31mTypeError\u001b[0m                                 Traceback (most recent call last)",
      "Cell \u001b[0;32mIn[84], line 1\u001b[0m\n\u001b[0;32m----> 1\u001b[0m solution \u001b[38;5;241m=\u001b[39m \u001b[43msolve_cp\u001b[49m\u001b[43m(\u001b[49m\u001b[43mx0\u001b[49m\u001b[43m)\u001b[49m\n",
      "Cell \u001b[0;32mIn[83], line 26\u001b[0m, in \u001b[0;36msolve_cp\u001b[0;34m(x0)\u001b[0m\n\u001b[1;32m     24\u001b[0m     H \u001b[38;5;241m=\u001b[39m z[\u001b[38;5;241m0\u001b[39m] \u001b[38;5;241m*\u001b[39m (Df\u001b[38;5;241m.\u001b[39mT \u001b[38;5;241m@\u001b[39m Df)\n\u001b[1;32m     25\u001b[0m     \u001b[38;5;28;01mreturn\u001b[39;00m f, matrix(Df), matrix(H)\n\u001b[0;32m---> 26\u001b[0m sol \u001b[38;5;241m=\u001b[39m \u001b[43msolvers\u001b[49m\u001b[38;5;241;43m.\u001b[39;49m\u001b[43mcp\u001b[49m\u001b[43m(\u001b[49m\u001b[43mF\u001b[49m\u001b[43m)\u001b[49m\n\u001b[1;32m     27\u001b[0m \u001b[38;5;28;01mreturn\u001b[39;00m sol\n",
      "File \u001b[0;32m~/miniforge3/envs/xsuite-dev/lib/python3.11/site-packages/cvxopt/cvxprog.py:1959\u001b[0m, in \u001b[0;36mcp\u001b[0;34m(F, G, h, dims, A, b, kktsolver, xnewcopy, xdot, xaxpy, xscal, ynewcopy, ydot, yaxpy, yscal, **kwargs)\u001b[0m\n\u001b[1;32m   1956\u001b[0m     xscal(alpha, x[\u001b[38;5;241m0\u001b[39m])\n\u001b[1;32m   1957\u001b[0m     x[\u001b[38;5;241m1\u001b[39m] \u001b[38;5;241m*\u001b[39m\u001b[38;5;241m=\u001b[39m alpha\n\u001b[0;32m-> 1959\u001b[0m sol \u001b[38;5;241m=\u001b[39m \u001b[43mcpl\u001b[49m\u001b[43m(\u001b[49m\u001b[43mc\u001b[49m\u001b[43m,\u001b[49m\u001b[43m \u001b[49m\u001b[43mF_e\u001b[49m\u001b[43m,\u001b[49m\u001b[43m \u001b[49m\u001b[43mG_e\u001b[49m\u001b[43m,\u001b[49m\u001b[43m \u001b[49m\u001b[43mh\u001b[49m\u001b[43m,\u001b[49m\u001b[43m \u001b[49m\u001b[43mdims\u001b[49m\u001b[43m,\u001b[49m\u001b[43m \u001b[49m\u001b[43mA_e\u001b[49m\u001b[43m,\u001b[49m\u001b[43m \u001b[49m\u001b[43mb\u001b[49m\u001b[43m,\u001b[49m\u001b[43m \u001b[49m\u001b[43mkktsolver_e\u001b[49m\u001b[43m,\u001b[49m\u001b[43m \u001b[49m\u001b[43mxnewcopy_e\u001b[49m\u001b[43m,\u001b[49m\u001b[43m \u001b[49m\n\u001b[1;32m   1960\u001b[0m \u001b[43m     \u001b[49m\u001b[43mxdot_e\u001b[49m\u001b[43m,\u001b[49m\u001b[43m \u001b[49m\u001b[43mxaxpy_e\u001b[49m\u001b[43m,\u001b[49m\u001b[43m \u001b[49m\u001b[43mxscal_e\u001b[49m\u001b[43m,\u001b[49m\u001b[43m \u001b[49m\u001b[43moptions\u001b[49m\u001b[43m \u001b[49m\u001b[38;5;241;43m=\u001b[39;49m\u001b[43m \u001b[49m\u001b[43moptions\u001b[49m\u001b[43m)\u001b[49m\n\u001b[1;32m   1962\u001b[0m sol[\u001b[38;5;124m'\u001b[39m\u001b[38;5;124mx\u001b[39m\u001b[38;5;124m'\u001b[39m] \u001b[38;5;241m=\u001b[39m sol[\u001b[38;5;124m'\u001b[39m\u001b[38;5;124mx\u001b[39m\u001b[38;5;124m'\u001b[39m][\u001b[38;5;241m0\u001b[39m]\n\u001b[1;32m   1963\u001b[0m sol[\u001b[38;5;124m'\u001b[39m\u001b[38;5;124mznl\u001b[39m\u001b[38;5;124m'\u001b[39m], sol[\u001b[38;5;124m'\u001b[39m\u001b[38;5;124msnl\u001b[39m\u001b[38;5;124m'\u001b[39m] \u001b[38;5;241m=\u001b[39m sol[\u001b[38;5;124m'\u001b[39m\u001b[38;5;124mznl\u001b[39m\u001b[38;5;124m'\u001b[39m][\u001b[38;5;241m1\u001b[39m:], sol[\u001b[38;5;124m'\u001b[39m\u001b[38;5;124msnl\u001b[39m\u001b[38;5;124m'\u001b[39m][\u001b[38;5;241m1\u001b[39m:]\n",
      "File \u001b[0;32m~/miniforge3/envs/xsuite-dev/lib/python3.11/site-packages/cvxopt/cvxprog.py:673\u001b[0m, in \u001b[0;36mcpl\u001b[0;34m(c, F, G, h, dims, A, b, kktsolver, xnewcopy, xdot, xaxpy, xscal, ynewcopy, ydot, yaxpy, yscal, **kwargs)\u001b[0m\n\u001b[1;32m    671\u001b[0m xcopy(c, rx) \n\u001b[1;32m    672\u001b[0m fA(y, rx, beta \u001b[38;5;241m=\u001b[39m \u001b[38;5;241m1.0\u001b[39m, trans \u001b[38;5;241m=\u001b[39m \u001b[38;5;124m'\u001b[39m\u001b[38;5;124mT\u001b[39m\u001b[38;5;124m'\u001b[39m)\n\u001b[0;32m--> 673\u001b[0m \u001b[43mfDf\u001b[49m\u001b[43m(\u001b[49m\u001b[43mz\u001b[49m\u001b[43m[\u001b[49m\u001b[43m:\u001b[49m\u001b[43mmnl\u001b[49m\u001b[43m]\u001b[49m\u001b[43m,\u001b[49m\u001b[43m \u001b[49m\u001b[43mrx\u001b[49m\u001b[43m,\u001b[49m\u001b[43m \u001b[49m\u001b[43mbeta\u001b[49m\u001b[43m \u001b[49m\u001b[38;5;241;43m=\u001b[39;49m\u001b[43m \u001b[49m\u001b[38;5;241;43m1.0\u001b[39;49m\u001b[43m,\u001b[49m\u001b[43m \u001b[49m\u001b[43mtrans\u001b[49m\u001b[43m \u001b[49m\u001b[38;5;241;43m=\u001b[39;49m\u001b[43m \u001b[49m\u001b[38;5;124;43m'\u001b[39;49m\u001b[38;5;124;43mT\u001b[39;49m\u001b[38;5;124;43m'\u001b[39;49m\u001b[43m)\u001b[49m\n\u001b[1;32m    674\u001b[0m fG(z[mnl:], rx, beta \u001b[38;5;241m=\u001b[39m \u001b[38;5;241m1.0\u001b[39m, trans \u001b[38;5;241m=\u001b[39m \u001b[38;5;124m'\u001b[39m\u001b[38;5;124mT\u001b[39m\u001b[38;5;124m'\u001b[39m)\n\u001b[1;32m    675\u001b[0m resx \u001b[38;5;241m=\u001b[39m math\u001b[38;5;241m.\u001b[39msqrt(xdot(rx, rx))\n",
      "File \u001b[0;32m~/miniforge3/envs/xsuite-dev/lib/python3.11/site-packages/cvxopt/cvxprog.py:1791\u001b[0m, in \u001b[0;36mcp.<locals>.F_e.<locals>.Df_e\u001b[0;34m(u, v, alpha, beta, trans)\u001b[0m\n\u001b[1;32m   1789\u001b[0m     v[\u001b[38;5;241m0\u001b[39m] \u001b[38;5;241m-\u001b[39m\u001b[38;5;241m=\u001b[39m alpha \u001b[38;5;241m*\u001b[39m u[\u001b[38;5;241m1\u001b[39m]\n\u001b[1;32m   1790\u001b[0m \u001b[38;5;28;01melse\u001b[39;00m:\n\u001b[0;32m-> 1791\u001b[0m     \u001b[43mbase\u001b[49m\u001b[38;5;241;43m.\u001b[39;49m\u001b[43mgemv\u001b[49m\u001b[43m(\u001b[49m\u001b[43mDf\u001b[49m\u001b[43m,\u001b[49m\u001b[43m \u001b[49m\u001b[43mu\u001b[49m\u001b[43m,\u001b[49m\u001b[43m \u001b[49m\u001b[43mv\u001b[49m\u001b[43m[\u001b[49m\u001b[38;5;241;43m0\u001b[39;49m\u001b[43m]\u001b[49m\u001b[43m,\u001b[49m\u001b[43m \u001b[49m\u001b[43malpha\u001b[49m\u001b[43m \u001b[49m\u001b[38;5;241;43m=\u001b[39;49m\u001b[43m \u001b[49m\u001b[43malpha\u001b[49m\u001b[43m,\u001b[49m\u001b[43m \u001b[49m\u001b[43mbeta\u001b[49m\u001b[43m \u001b[49m\u001b[38;5;241;43m=\u001b[39;49m\u001b[43m \u001b[49m\u001b[43mbeta\u001b[49m\u001b[43m,\u001b[49m\n\u001b[1;32m   1792\u001b[0m \u001b[43m        \u001b[49m\u001b[43mtrans\u001b[49m\u001b[43m \u001b[49m\u001b[38;5;241;43m=\u001b[39;49m\u001b[43m \u001b[49m\u001b[38;5;124;43m'\u001b[39;49m\u001b[38;5;124;43mT\u001b[39;49m\u001b[38;5;124;43m'\u001b[39;49m\u001b[43m)\u001b[49m\n\u001b[1;32m   1793\u001b[0m     v[\u001b[38;5;241m1\u001b[39m] \u001b[38;5;241m=\u001b[39m \u001b[38;5;241m-\u001b[39malpha \u001b[38;5;241m*\u001b[39m u[\u001b[38;5;241m0\u001b[39m] \u001b[38;5;241m+\u001b[39m beta \u001b[38;5;241m*\u001b[39m v[\u001b[38;5;241m1\u001b[39m]\n",
      "\u001b[0;31mTypeError\u001b[0m: length of x is too small"
     ]
    }
   ],
   "source": [
    "solution = solve_cp(x0)"
   ]
  },
  {
   "cell_type": "code",
   "execution_count": null,
   "id": "48f6874c-5165-44b7-bf0e-de92a205dca0",
   "metadata": {},
   "outputs": [],
   "source": [
    "xx = matrix(1.0, (4,1))"
   ]
  },
  {
   "cell_type": "code",
   "execution_count": null,
   "id": "9df15f24-18a0-40ab-8603-ee829db56d65",
   "metadata": {},
   "outputs": [],
   "source": [
    "ff = -sum(log(xx))"
   ]
  },
  {
   "cell_type": "code",
   "execution_count": null,
   "id": "ef0a0761-a2c0-4168-ab03-46d9f1e1e1ad",
   "metadata": {},
   "outputs": [],
   "source": [
    "Df = -(xx**-1).T"
   ]
  },
  {
   "cell_type": "code",
   "execution_count": null,
   "id": "b5b2300d-abb6-4d6c-8baa-bb2c49cd0e7f",
   "metadata": {},
   "outputs": [],
   "source": [
    "print(Df)"
   ]
  },
  {
   "cell_type": "code",
   "execution_count": 94,
   "id": "c0654b0e-fe55-47d5-91b5-357363aed646",
   "metadata": {},
   "outputs": [],
   "source": [
    "from cvxopt import solvers, matrix, spdiag, log\n",
    "\n",
    "def acent(A, b):\n",
    "    m, n = A.size\n",
    "    def F(x=None, z=None):\n",
    "        if x is None: return 0, matrix(1.0, (n,1))\n",
    "        if min(x) <= 0.0: return None\n",
    "        f = -sum(log(x))\n",
    "        Df = -(x**-1).T\n",
    "        if z is None: return f, Df\n",
    "        H = spdiag(z[0] * x**-2)\n",
    "        return f, Df, H\n",
    "    return solvers.cp(F, A=A, b=b)"
   ]
  },
  {
   "cell_type": "code",
   "execution_count": 101,
   "id": "727bc844-1f74-4034-adae-9ef373961c18",
   "metadata": {},
   "outputs": [],
   "source": [
    "A = matrix(np.eye(4)) * 1000"
   ]
  },
  {
   "cell_type": "code",
   "execution_count": 104,
   "id": "5f90d2a8-a41a-4a0c-85ee-cf07caebd3c8",
   "metadata": {},
   "outputs": [
    {
     "name": "stdout",
     "output_type": "stream",
     "text": [
      "(4, 4)\n"
     ]
    }
   ],
   "source": [
    "A = matrix(np.random.rand(4, 4) + np.eye(4) * 1000)\n",
    "print(A.size)"
   ]
  },
  {
   "cell_type": "code",
   "execution_count": 106,
   "id": "b2cd712b-516b-4d8d-b280-0d88e1f95378",
   "metadata": {},
   "outputs": [
    {
     "name": "stdout",
     "output_type": "stream",
     "text": [
      "[ 4.17e-01]\n",
      "[ 4.48e-01]\n",
      "[ 5.15e-01]\n",
      "[ 3.51e-01]\n",
      "\n"
     ]
    }
   ],
   "source": [
    "b = matrix(np.random.rand(4))\n",
    "print(b)"
   ]
  },
  {
   "cell_type": "code",
   "execution_count": 107,
   "id": "8544996d-ead8-4773-ab5e-81648c297ec4",
   "metadata": {},
   "outputs": [
    {
     "name": "stdout",
     "output_type": "stream",
     "text": [
      "     pcost       dcost       gap    pres   dres\n",
      " 0:  0.0000e+00  0.0000e+00  1e+00  1e+00  1e+00\n",
      " 1:  3.9583e+00  1.8333e+01  1e-02  1e-02  9e+01\n",
      " 2:  2.1907e+01  3.0257e+01  1e-04  4e-03  2e+03\n",
      " 3:  3.0853e+01  3.1028e+01  1e-06  8e-05  1e+02\n",
      " 4:  3.1027e+01  3.1028e+01  1e-08  8e-07  1e+00\n",
      " 5:  3.1028e+01  3.1028e+01  1e-10  8e-09  1e-02\n",
      " 6:  3.1028e+01  3.1028e+01  1e-12  8e-11  1e-04\n",
      " 7:  3.1028e+01  3.1028e+01  1e-14  8e-13  1e-06\n",
      " 8:  3.1028e+01  3.1028e+01  1e-16  8e-15  1e-08\n",
      "Optimal solution found.\n"
     ]
    }
   ],
   "source": [
    "d = acent(A, b)"
   ]
  },
  {
   "cell_type": "code",
   "execution_count": 108,
   "id": "0e353e35-c5df-4e7c-aa4b-652bfb282b82",
   "metadata": {},
   "outputs": [
    {
     "data": {
      "text/plain": [
       "{'status': 'optimal',\n",
       " 'x': <4x1 matrix, tc='d'>,\n",
       " 'y': <4x1 matrix, tc='d'>,\n",
       " 'znl': <0x1 matrix, tc='d'>,\n",
       " 'zl': <0x1 matrix, tc='d'>,\n",
       " 'snl': <0x1 matrix, tc='d'>,\n",
       " 'sl': <0x1 matrix, tc='d'>,\n",
       " 'gap': 1.0000000000000077e-16,\n",
       " 'relative gap': 3.2228508396975407e-18,\n",
       " 'primal objective': 31.028429478706155,\n",
       " 'dual objective': 31.028429478723755,\n",
       " 'primal slack': 1.0000000000000069e-16,\n",
       " 'dual slack': 1.0000000000000009,\n",
       " 'primal infeasibility': 8.316827601243476e-15,\n",
       " 'dual infeasibility': 1.1144010556622795e-08}"
      ]
     },
     "execution_count": 108,
     "metadata": {},
     "output_type": "execute_result"
    }
   ],
   "source": [
    "d"
   ]
  },
  {
   "cell_type": "code",
   "execution_count": 112,
   "id": "7f98c115-1435-431f-b6bf-174ba1942526",
   "metadata": {},
   "outputs": [
    {
     "name": "stdout",
     "output_type": "stream",
     "text": [
      "[ 2.40e+00]\n",
      "[ 2.23e+00]\n",
      "[ 1.94e+00]\n",
      "[ 2.85e+00]\n",
      "\n"
     ]
    }
   ],
   "source": [
    "print(d['y'])"
   ]
  },
  {
   "cell_type": "code",
   "execution_count": null,
   "id": "f73b04a0-1254-4895-8c15-61b29c08bf12",
   "metadata": {},
   "outputs": [],
   "source": []
  }
 ],
 "metadata": {
  "kernelspec": {
   "display_name": "Python 3 (ipykernel)",
   "language": "python",
   "name": "python3"
  },
  "language_info": {
   "codemirror_mode": {
    "name": "ipython",
    "version": 3
   },
   "file_extension": ".py",
   "mimetype": "text/x-python",
   "name": "python",
   "nbconvert_exporter": "python",
   "pygments_lexer": "ipython3",
   "version": "3.12.3"
  }
 },
 "nbformat": 4,
 "nbformat_minor": 5
}
